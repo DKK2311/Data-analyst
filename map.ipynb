{
  "nbformat": 4,
  "nbformat_minor": 0,
  "metadata": {
    "colab": {
      "provenance": []
    },
    "kernelspec": {
      "name": "python3",
      "display_name": "Python 3"
    },
    "language_info": {
      "name": "python"
    }
  },
  "cells": [
    {
      "cell_type": "code",
      "execution_count": null,
      "metadata": {
        "id": "vgmB2vbT0oGJ"
      },
      "outputs": [],
      "source": [
        "import pandas as pd\n",
        "import numpy as np\n"
      ]
    },
    {
      "cell_type": "code",
      "source": [
        "data = pd.Series([1, 2, 3, 4, 5])"
      ],
      "metadata": {
        "id": "MxUxVb3s5ZwR"
      },
      "execution_count": null,
      "outputs": []
    },
    {
      "cell_type": "code",
      "source": [
        "doubled = data.map(lambda x: x * 2)\n",
        "print(\"Doubled Values:\")\n",
        "print(doubled)"
      ],
      "metadata": {
        "colab": {
          "base_uri": "https://localhost:8080/"
        },
        "id": "p0B3ohP-5hbP",
        "outputId": "24f73e2a-bec7-44e5-9874-85ac578a96b7"
      },
      "execution_count": null,
      "outputs": [
        {
          "output_type": "stream",
          "name": "stdout",
          "text": [
            "Doubled Values:\n",
            "0    10\n",
            "1     4\n",
            "2     6\n",
            "3     8\n",
            "4    10\n",
            "dtype: int64\n"
          ]
        }
      ]
    },
    {
      "cell_type": "markdown",
      "source": [
        "undefined function"
      ],
      "metadata": {
        "id": "vmqZTju756q0"
      }
    },
    {
      "cell_type": "code",
      "source": [
        "def square(x):\n",
        "    return x ** 2"
      ],
      "metadata": {
        "id": "IgaC69P253Lb"
      },
      "execution_count": null,
      "outputs": []
    },
    {
      "cell_type": "markdown",
      "source": [
        "predefined function"
      ],
      "metadata": {
        "id": "91GhJgSI59iX"
      }
    },
    {
      "cell_type": "code",
      "source": [
        "squared = data.map(square)\n",
        "print(\"Squared Values:\")\n",
        "print(squared)"
      ],
      "metadata": {
        "colab": {
          "base_uri": "https://localhost:8080/"
        },
        "id": "C4dOVJbU6LDx",
        "outputId": "2c2963b8-20a8-4111-c5a0-cf3c10d60232"
      },
      "execution_count": null,
      "outputs": [
        {
          "output_type": "stream",
          "name": "stdout",
          "text": [
            "Squared Values:\n",
            "0    25\n",
            "1     4\n",
            "2     9\n",
            "3    16\n",
            "4    25\n",
            "dtype: int64\n"
          ]
        }
      ]
    },
    {
      "cell_type": "code",
      "source": [
        "replace = {1: \"one\", 2: \"two\", 3: \"three\", 4 :'surya'}\n",
        "replaced = data.map(replace)\n",
        "print(\"Replaced Values:\")\n",
        "print(replaced)"
      ],
      "metadata": {
        "colab": {
          "base_uri": "https://localhost:8080/"
        },
        "id": "l37G1czd6ZHW",
        "outputId": "7733f98a-226a-47f1-b17f-94f03f810c9e"
      },
      "execution_count": null,
      "outputs": [
        {
          "output_type": "stream",
          "name": "stdout",
          "text": [
            "Replaced Values:\n",
            "0      NaN\n",
            "1      two\n",
            "2    three\n",
            "3    surya\n",
            "4      NaN\n",
            "dtype: object\n"
          ]
        }
      ]
    },
    {
      "cell_type": "code",
      "source": [
        "df = pd.DataFrame({\n",
        "    'A': [1, 2, 3],\n",
        "    'B': [4, 5, 6],\n",
        "    'C': [7, 8, 9]\n",
        "})"
      ],
      "metadata": {
        "id": "EHsvrdbT65lc"
      },
      "execution_count": null,
      "outputs": []
    },
    {
      "cell_type": "code",
      "source": [
        "column_sum = df.apply(sum, axis=0)\n",
        "print(\"Sum of Each Column:\")\n",
        "print(column_sum)"
      ],
      "metadata": {
        "colab": {
          "base_uri": "https://localhost:8080/"
        },
        "id": "bm83N6Aq7DLd",
        "outputId": "ed552652-21a4-4187-d690-56ef8e4be8da"
      },
      "execution_count": null,
      "outputs": [
        {
          "output_type": "stream",
          "name": "stdout",
          "text": [
            "Sum of Each Column:\n",
            "A     6\n",
            "B    15\n",
            "C    24\n",
            "dtype: int64\n"
          ]
        }
      ]
    },
    {
      "cell_type": "code",
      "source": [
        "row_sum = df.apply(sum, axis=1)\n",
        "print(\"Sum of Each row:\")\n",
        "print(row_sum)"
      ],
      "metadata": {
        "colab": {
          "base_uri": "https://localhost:8080/"
        },
        "id": "6cizXZyK7qCt",
        "outputId": "01d0306b-41a8-4628-f2b0-a5601765332d"
      },
      "execution_count": null,
      "outputs": [
        {
          "output_type": "stream",
          "name": "stdout",
          "text": [
            "Sum of Each row:\n",
            "0    12\n",
            "1    15\n",
            "2    18\n",
            "dtype: int64\n"
          ]
        }
      ]
    },
    {
      "cell_type": "code",
      "source": [
        "def add(x):\n",
        "    return x + 1"
      ],
      "metadata": {
        "id": "DeMz4Ok0hj75"
      },
      "execution_count": null,
      "outputs": []
    },
    {
      "cell_type": "code",
      "source": [
        "modified_df = df.applymap(add)\n",
        "print(\"DataFrame with All Values Incremented by 1:\")\n",
        "print(modified_df)"
      ],
      "metadata": {
        "colab": {
          "base_uri": "https://localhost:8080/"
        },
        "id": "AgiVvJ8_CcQh",
        "outputId": "92ad9a90-2add-4c55-9d3f-94a38a3d3bd0"
      },
      "execution_count": null,
      "outputs": [
        {
          "output_type": "stream",
          "name": "stdout",
          "text": [
            "DataFrame with All Values Incremented by 1:\n",
            "   A  B   C\n",
            "0  2  5   8\n",
            "1  3  6   9\n",
            "2  4  7  10\n"
          ]
        },
        {
          "output_type": "stream",
          "name": "stderr",
          "text": [
            "<ipython-input-77-69c19cddb91d>:1: FutureWarning: DataFrame.applymap has been deprecated. Use DataFrame.map instead.\n",
            "  modified_df = df.applymap(add)\n"
          ]
        }
      ]
    },
    {
      "cell_type": "code",
      "source": [
        "df['is_even'] = df['A'].map(lambda x: \"Even\" if x % 2 == 0 else \"Odd\")\n",
        "print(\"\\nDataFrame with Even/Odd Column:\")\n",
        "print(df)\n"
      ],
      "metadata": {
        "colab": {
          "base_uri": "https://localhost:8080/"
        },
        "id": "8c5J8ga1DYd5",
        "outputId": "9a96274c-539c-4e81-984c-bfdb4d349531"
      },
      "execution_count": null,
      "outputs": [
        {
          "output_type": "stream",
          "name": "stdout",
          "text": [
            "\n",
            "DataFrame with Even/Odd Column:\n",
            "   A  B   C is_even\n",
            "0  1  4   7     Odd\n",
            "1  2  5   8    Even\n",
            "2  3  6  10     Odd\n"
          ]
        }
      ]
    },
    {
      "cell_type": "code",
      "source": [
        "def categorize(row):\n",
        "    return \"High\" if row['B'] > 4 else \"Low\"\n",
        "\n",
        "df['Category'] = df.apply(categorize, axis=1)\n",
        "print(\"DataFrame with Category Based on 'B':\")\n",
        "print(df)"
      ],
      "metadata": {
        "colab": {
          "base_uri": "https://localhost:8080/"
        },
        "id": "hg9xZXghF88c",
        "outputId": "bb590ac4-28b8-4090-cd4b-b7ef592b9be2"
      },
      "execution_count": null,
      "outputs": [
        {
          "output_type": "stream",
          "name": "stdout",
          "text": [
            "DataFrame with Category Based on 'B':\n",
            "   A  B  C is_even Category\n",
            "0  1  4  7     Odd      Low\n",
            "1  2  5  8    Even     High\n",
            "2  3  6  9     Odd     High\n"
          ]
        }
      ]
    },
    {
      "cell_type": "code",
      "source": [
        "\n",
        "data = pd.DataFrame({\n",
        "    'Name': ['Alice', 'Bob', 'Charlie'],\n",
        "    'Age': [25, 30, 35],\n",
        "    'Salary': [50000, 60000, 70000]\n",
        "})\n",
        "\n",
        "\n",
        "data['Name'] = data['Name'].map(str.upper)\n",
        "\n",
        "\n",
        "def salary_category(salary):\n",
        "    if salary < 55000:\n",
        "        return 'Low'\n",
        "    elif 55000 <= salary <= 65000:\n",
        "        return 'Medium'\n",
        "    else:\n",
        "        return 'High'\n",
        "\n",
        "data['Salary Category'] = data['Salary'].apply(salary_category)\n",
        "print(\"\\nDataFrame with Processed Text and Salary Category:\")\n",
        "print(data)\n"
      ],
      "metadata": {
        "colab": {
          "base_uri": "https://localhost:8080/"
        },
        "id": "Am5w0RNGGPO5",
        "outputId": "a6c6e9b0-2a06-4055-d24e-a03b423cd992"
      },
      "execution_count": null,
      "outputs": [
        {
          "output_type": "stream",
          "name": "stdout",
          "text": [
            "\n",
            "DataFrame with Processed Text and Salary Category:\n",
            "      Name  Age  Salary Salary Category\n",
            "0    ALICE   25   50000             Low\n",
            "1      BOB   30   60000          Medium\n",
            "2  CHARLIE   35   70000            High\n"
          ]
        }
      ]
    }
  ]
}